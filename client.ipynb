{
 "cells": [
  {
   "cell_type": "code",
   "execution_count": 1,
   "id": "beb601eb",
   "metadata": {},
   "outputs": [],
   "source": [
    "import pandas as pd\n",
    "import json"
   ]
  },
  {
   "cell_type": "code",
   "execution_count": null,
   "id": "682410a2",
   "metadata": {},
   "outputs": [
    {
     "data": {
      "text/html": [
       "<pre style=\"white-space:pre;overflow-x:auto;line-height:normal;font-family:Menlo,'DejaVu Sans Mono',consolas,'Courier New',monospace\"><span style=\"color: #7fbfbf; text-decoration-color: #7fbfbf\">[10/07/25 14:46:05] </span><span style=\"color: #008000; text-decoration-color: #008000\">DEBUG   </span> Inferred transport:                                                 <a href=\"file:///Users/anaconda3/envs/agent/lib/python3.12/site-packages/fastmcp/client/transports.py\" target=\"_blank\"><span style=\"color: #7f7f7f; text-decoration-color: #7f7f7f\">transports.py</span></a><span style=\"color: #7f7f7f; text-decoration-color: #7f7f7f\">:</span><a href=\"file:///Users/anaconda3/envs/agent/lib/python3.12/site-packages/fastmcp/client/transports.py#1063\" target=\"_blank\"><span style=\"color: #7f7f7f; text-decoration-color: #7f7f7f\">1063</span></a>\n",
       "<span style=\"color: #7fbfbf; text-decoration-color: #7fbfbf\">                    </span>         <span style=\"font-weight: bold\">&lt;</span><span style=\"color: #800080; text-decoration-color: #800080; font-weight: bold\">StreamableHttpTransport</span><span style=\"color: #000000; text-decoration-color: #000000; font-weight: bold\">(</span><span style=\"color: #808000; text-decoration-color: #808000\">url</span><span style=\"color: #000000; text-decoration-color: #000000\">=</span><span style=\"color: #008000; text-decoration-color: #008000\">'http://0.0.0.0:8001/mcp'</span><span style=\"color: #000000; text-decoration-color: #000000; font-weight: bold\">)</span><span style=\"font-weight: bold\">&gt;</span>            <span style=\"color: #7f7f7f; text-decoration-color: #7f7f7f\">                  </span>\n",
       "</pre>\n"
      ],
      "text/plain": [
       "\u001b[2;36m[10/07/25 14:46:05]\u001b[0m\u001b[2;36m \u001b[0m\u001b[32mDEBUG   \u001b[0m Inferred transport:                                                 \u001b]8;id=559587;file:///Users/anaconda3/envs/agent/lib/python3.12/site-packages/fastmcp/client/transports.py\u001b\\\u001b[2mtransports.py\u001b[0m\u001b]8;;\u001b\\\u001b[2m:\u001b[0m\u001b]8;id=525582;file:///Users/anaconda3/envs/agent/lib/python3.12/site-packages/fastmcp/client/transports.py#1063\u001b\\\u001b[2m1063\u001b[0m\u001b]8;;\u001b\\\n",
       "\u001b[2;36m                    \u001b[0m         \u001b[1m<\u001b[0m\u001b[1;35mStreamableHttpTransport\u001b[0m\u001b[1;39m(\u001b[0m\u001b[33murl\u001b[0m\u001b[39m=\u001b[0m\u001b[32m'http://0.0.0.0:8001/mcp'\u001b[0m\u001b[1;39m)\u001b[0m\u001b[1m>\u001b[0m            \u001b[2m                  \u001b[0m\n"
      ]
     },
     "metadata": {},
     "output_type": "display_data"
    }
   ],
   "source": [
    "import asyncio\n",
    "from fastmcp import Client, FastMCP\n",
    "# HTTP server\n",
    "client = Client(\"http://0.0.0.0:8001/mcp\")"
   ]
  },
  {
   "cell_type": "code",
   "execution_count": 12,
   "id": "42ced5b0",
   "metadata": {},
   "outputs": [],
   "source": [
    "async def main():\n",
    "    async with client:\n",
    "        # Basic server interaction\n",
    "        await client.ping()\n",
    "        \n",
    "        # List available operations\n",
    "        tools = await client.list_tools()\n",
    "        resources = await client.list_resources()\n",
    "        prompts = await client.list_prompts()\n",
    "        \n",
    "        # Execute operations\n",
    "        result = await client.call_tool(\"async_query_to_df\", {\"query\": \"SELECT * FROM menu_items where Category = 'Bowl' \"})\n",
    "        result_1 = json.loads(result.content[0].text)\n",
    "        result_2 = await client.call_tool(\"generate_menu_metrics_summary\", {\"data\": result_1})\n",
    "        print(tools)\n",
    "        return result,result_2"
   ]
  },
  {
   "cell_type": "code",
   "execution_count": 13,
   "id": "2d1d16af",
   "metadata": {},
   "outputs": [
    {
     "data": {
      "text/html": [
       "<pre style=\"white-space:pre;overflow-x:auto;line-height:normal;font-family:Menlo,'DejaVu Sans Mono',consolas,'Courier New',monospace\"><span style=\"color: #7fbfbf; text-decoration-color: #7fbfbf\">[10/07/25 14:48:50] </span><span style=\"color: #008000; text-decoration-color: #008000\">DEBUG   </span> <span style=\"font-weight: bold\">[</span>Client-e26c<span style=\"font-weight: bold\">]</span> called list_tools                                          <a href=\"file:///Users/anaconda3/envs/agent/lib/python3.12/site-packages/fastmcp/client/client.py\" target=\"_blank\"><span style=\"color: #7f7f7f; text-decoration-color: #7f7f7f\">client.py</span></a><span style=\"color: #7f7f7f; text-decoration-color: #7f7f7f\">:</span><a href=\"file:///Users/anaconda3/envs/agent/lib/python3.12/site-packages/fastmcp/client/client.py#809\" target=\"_blank\"><span style=\"color: #7f7f7f; text-decoration-color: #7f7f7f\">809</span></a>\n",
       "</pre>\n"
      ],
      "text/plain": [
       "\u001b[2;36m[10/07/25 14:48:50]\u001b[0m\u001b[2;36m \u001b[0m\u001b[32mDEBUG   \u001b[0m \u001b[1m[\u001b[0mClient-e26c\u001b[1m]\u001b[0m called list_tools                                          \u001b]8;id=90587;file:///Users/anaconda3/envs/agent/lib/python3.12/site-packages/fastmcp/client/client.py\u001b\\\u001b[2mclient.py\u001b[0m\u001b]8;;\u001b\\\u001b[2m:\u001b[0m\u001b]8;id=660687;file:///Users/anaconda3/envs/agent/lib/python3.12/site-packages/fastmcp/client/client.py#809\u001b\\\u001b[2m809\u001b[0m\u001b]8;;\u001b\\\n"
      ]
     },
     "metadata": {},
     "output_type": "display_data"
    },
    {
     "data": {
      "text/html": [
       "<pre style=\"white-space:pre;overflow-x:auto;line-height:normal;font-family:Menlo,'DejaVu Sans Mono',consolas,'Courier New',monospace\"><span style=\"color: #7fbfbf; text-decoration-color: #7fbfbf\">                    </span><span style=\"color: #008000; text-decoration-color: #008000\">DEBUG   </span> <span style=\"font-weight: bold\">[</span>Client-e26c<span style=\"font-weight: bold\">]</span> called list_resources                                      <a href=\"file:///Users/anaconda3/envs/agent/lib/python3.12/site-packages/fastmcp/client/client.py\" target=\"_blank\"><span style=\"color: #7f7f7f; text-decoration-color: #7f7f7f\">client.py</span></a><span style=\"color: #7f7f7f; text-decoration-color: #7f7f7f\">:</span><a href=\"file:///Users/anaconda3/envs/agent/lib/python3.12/site-packages/fastmcp/client/client.py#550\" target=\"_blank\"><span style=\"color: #7f7f7f; text-decoration-color: #7f7f7f\">550</span></a>\n",
       "</pre>\n"
      ],
      "text/plain": [
       "\u001b[2;36m                   \u001b[0m\u001b[2;36m \u001b[0m\u001b[32mDEBUG   \u001b[0m \u001b[1m[\u001b[0mClient-e26c\u001b[1m]\u001b[0m called list_resources                                      \u001b]8;id=95850;file:///Users/anaconda3/envs/agent/lib/python3.12/site-packages/fastmcp/client/client.py\u001b\\\u001b[2mclient.py\u001b[0m\u001b]8;;\u001b\\\u001b[2m:\u001b[0m\u001b]8;id=979243;file:///Users/anaconda3/envs/agent/lib/python3.12/site-packages/fastmcp/client/client.py#550\u001b\\\u001b[2m550\u001b[0m\u001b]8;;\u001b\\\n"
      ]
     },
     "metadata": {},
     "output_type": "display_data"
    },
    {
     "data": {
      "text/html": [
       "<pre style=\"white-space:pre;overflow-x:auto;line-height:normal;font-family:Menlo,'DejaVu Sans Mono',consolas,'Courier New',monospace\"><span style=\"color: #7fbfbf; text-decoration-color: #7fbfbf\">                    </span><span style=\"color: #008000; text-decoration-color: #008000\">DEBUG   </span> <span style=\"font-weight: bold\">[</span>Client-e26c<span style=\"font-weight: bold\">]</span> called list_prompts                                        <a href=\"file:///Users/anaconda3/envs/agent/lib/python3.12/site-packages/fastmcp/client/client.py\" target=\"_blank\"><span style=\"color: #7f7f7f; text-decoration-color: #7f7f7f\">client.py</span></a><span style=\"color: #7f7f7f; text-decoration-color: #7f7f7f\">:</span><a href=\"file:///Users/anaconda3/envs/agent/lib/python3.12/site-packages/fastmcp/client/client.py#669\" target=\"_blank\"><span style=\"color: #7f7f7f; text-decoration-color: #7f7f7f\">669</span></a>\n",
       "</pre>\n"
      ],
      "text/plain": [
       "\u001b[2;36m                   \u001b[0m\u001b[2;36m \u001b[0m\u001b[32mDEBUG   \u001b[0m \u001b[1m[\u001b[0mClient-e26c\u001b[1m]\u001b[0m called list_prompts                                        \u001b]8;id=553676;file:///Users/anaconda3/envs/agent/lib/python3.12/site-packages/fastmcp/client/client.py\u001b\\\u001b[2mclient.py\u001b[0m\u001b]8;;\u001b\\\u001b[2m:\u001b[0m\u001b]8;id=109024;file:///Users/anaconda3/envs/agent/lib/python3.12/site-packages/fastmcp/client/client.py#669\u001b\\\u001b[2m669\u001b[0m\u001b]8;;\u001b\\\n"
      ]
     },
     "metadata": {},
     "output_type": "display_data"
    },
    {
     "data": {
      "text/html": [
       "<pre style=\"white-space:pre;overflow-x:auto;line-height:normal;font-family:Menlo,'DejaVu Sans Mono',consolas,'Courier New',monospace\"><span style=\"color: #7fbfbf; text-decoration-color: #7fbfbf\">                    </span><span style=\"color: #008000; text-decoration-color: #008000\">DEBUG   </span> <span style=\"font-weight: bold\">[</span>Client-e26c<span style=\"font-weight: bold\">]</span> called call_tool: async_query_to_df                        <a href=\"file:///Users/anaconda3/envs/agent/lib/python3.12/site-packages/fastmcp/client/client.py\" target=\"_blank\"><span style=\"color: #7f7f7f; text-decoration-color: #7f7f7f\">client.py</span></a><span style=\"color: #7f7f7f; text-decoration-color: #7f7f7f\">:</span><a href=\"file:///Users/anaconda3/envs/agent/lib/python3.12/site-packages/fastmcp/client/client.py#853\" target=\"_blank\"><span style=\"color: #7f7f7f; text-decoration-color: #7f7f7f\">853</span></a>\n",
       "</pre>\n"
      ],
      "text/plain": [
       "\u001b[2;36m                   \u001b[0m\u001b[2;36m \u001b[0m\u001b[32mDEBUG   \u001b[0m \u001b[1m[\u001b[0mClient-e26c\u001b[1m]\u001b[0m called call_tool: async_query_to_df                        \u001b]8;id=914032;file:///Users/anaconda3/envs/agent/lib/python3.12/site-packages/fastmcp/client/client.py\u001b\\\u001b[2mclient.py\u001b[0m\u001b]8;;\u001b\\\u001b[2m:\u001b[0m\u001b]8;id=487073;file:///Users/anaconda3/envs/agent/lib/python3.12/site-packages/fastmcp/client/client.py#853\u001b\\\u001b[2m853\u001b[0m\u001b]8;;\u001b\\\n"
      ]
     },
     "metadata": {},
     "output_type": "display_data"
    },
    {
     "data": {
      "text/html": [
       "<pre style=\"white-space:pre;overflow-x:auto;line-height:normal;font-family:Menlo,'DejaVu Sans Mono',consolas,'Courier New',monospace\"><span style=\"color: #7fbfbf; text-decoration-color: #7fbfbf\">                    </span><span style=\"color: #008000; text-decoration-color: #008000\">DEBUG   </span> <span style=\"font-weight: bold\">[</span>Client-e26c<span style=\"font-weight: bold\">]</span> called call_tool: generate_menu_metrics_summary            <a href=\"file:///Users/anaconda3/envs/agent/lib/python3.12/site-packages/fastmcp/client/client.py\" target=\"_blank\"><span style=\"color: #7f7f7f; text-decoration-color: #7f7f7f\">client.py</span></a><span style=\"color: #7f7f7f; text-decoration-color: #7f7f7f\">:</span><a href=\"file:///Users/anaconda3/envs/agent/lib/python3.12/site-packages/fastmcp/client/client.py#853\" target=\"_blank\"><span style=\"color: #7f7f7f; text-decoration-color: #7f7f7f\">853</span></a>\n",
       "</pre>\n"
      ],
      "text/plain": [
       "\u001b[2;36m                   \u001b[0m\u001b[2;36m \u001b[0m\u001b[32mDEBUG   \u001b[0m \u001b[1m[\u001b[0mClient-e26c\u001b[1m]\u001b[0m called call_tool: generate_menu_metrics_summary            \u001b]8;id=950547;file:///Users/anaconda3/envs/agent/lib/python3.12/site-packages/fastmcp/client/client.py\u001b\\\u001b[2mclient.py\u001b[0m\u001b]8;;\u001b\\\u001b[2m:\u001b[0m\u001b]8;id=782380;file:///Users/anaconda3/envs/agent/lib/python3.12/site-packages/fastmcp/client/client.py#853\u001b\\\u001b[2m853\u001b[0m\u001b]8;;\u001b\\\n"
      ]
     },
     "metadata": {},
     "output_type": "display_data"
    },
    {
     "name": "stdout",
     "output_type": "stream",
     "text": [
      "[Tool(name='async_query_to_df', title=None, description='Execute any SQL query asynchronously on the database.\\n\\n- SELECT queries return a list of dictionaries (one per row).\\n- Non-SELECT queries return a single-item list with a message.', inputSchema={'properties': {'query': {'type': 'string'}}, 'required': ['query'], 'type': 'object'}, outputSchema={'properties': {'result': {'items': {'additionalProperties': True, 'type': 'object'}, 'type': 'array'}}, 'required': ['result'], 'type': 'object', 'x-fastmcp-wrap-result': True}, icons=None, annotations=None, meta={'_fastmcp': {'tags': []}}), Tool(name='generate_menu_metrics_summary', title=None, description='Analyze key menu item performance metrics from JSON/dict input and return a structured summary.\\n\\nInput:\\n- data: List of dictionaries representing menu items and their metrics, e.g.,\\n  [\\n    {\"Price\": 120, \"Avg_Rating\": 4.5, \"Total_Orders\": 300, \"Last_Week_Sales\": 50, \"Last_Month_Sales\": 200},\\n    ...\\n  ]\\n\\nContinuous columns analyzed:\\n- Price: Selling price of the menu item\\n- Avg_Rating: Average customer rating\\n- Total_Orders: Total number of orders for the item\\n- Last_Week_Sales: Number of orders in the last week\\n- Last_Month_Sales: Number of orders in the last month\\n\\nOutput:\\nReturns a list of dictionaries where each dictionary contains the statistics\\nfor a metric, including:\\n- metric: Column name\\n- count: Number of non-null records\\n- mean: Average value\\n- std: Standard deviation\\n- min: Minimum value\\n- 25%, 50%, 75%: Quartiles\\n- max: Maximum value\\n- median: Median value\\n- sum: Total sum', inputSchema={'properties': {'data': {'items': {'additionalProperties': True, 'type': 'object'}, 'type': 'array'}}, 'required': ['data'], 'type': 'object'}, outputSchema={'properties': {'result': {'items': {'additionalProperties': True, 'type': 'object'}, 'type': 'array'}}, 'required': ['result'], 'type': 'object', 'x-fastmcp-wrap-result': True}, icons=None, annotations=None, meta={'_fastmcp': {'tags': []}})]\n"
     ]
    }
   ],
   "source": [
    "r= await main()"
   ]
  },
  {
   "cell_type": "code",
   "execution_count": 14,
   "id": "3865c8dc",
   "metadata": {},
   "outputs": [
    {
     "data": {
      "text/html": [
       "<div>\n",
       "<style scoped>\n",
       "    .dataframe tbody tr th:only-of-type {\n",
       "        vertical-align: middle;\n",
       "    }\n",
       "\n",
       "    .dataframe tbody tr th {\n",
       "        vertical-align: top;\n",
       "    }\n",
       "\n",
       "    .dataframe thead th {\n",
       "        text-align: right;\n",
       "    }\n",
       "</style>\n",
       "<table border=\"1\" class=\"dataframe\">\n",
       "  <thead>\n",
       "    <tr style=\"text-align: right;\">\n",
       "      <th></th>\n",
       "      <th>metric</th>\n",
       "      <th>count</th>\n",
       "      <th>mean</th>\n",
       "      <th>std</th>\n",
       "      <th>min</th>\n",
       "      <th>25%</th>\n",
       "      <th>50%</th>\n",
       "      <th>75%</th>\n",
       "      <th>max</th>\n",
       "      <th>median</th>\n",
       "      <th>sum</th>\n",
       "    </tr>\n",
       "  </thead>\n",
       "  <tbody>\n",
       "    <tr>\n",
       "      <th>0</th>\n",
       "      <td>Price</td>\n",
       "      <td>92.0</td>\n",
       "      <td>223.913043</td>\n",
       "      <td>4.907165</td>\n",
       "      <td>220.0</td>\n",
       "      <td>220.000</td>\n",
       "      <td>220.0</td>\n",
       "      <td>230.00</td>\n",
       "      <td>230.0</td>\n",
       "      <td>220.0</td>\n",
       "      <td>20600.0</td>\n",
       "    </tr>\n",
       "    <tr>\n",
       "      <th>1</th>\n",
       "      <td>Avg_Rating</td>\n",
       "      <td>92.0</td>\n",
       "      <td>4.311957</td>\n",
       "      <td>0.415851</td>\n",
       "      <td>3.5</td>\n",
       "      <td>3.975</td>\n",
       "      <td>4.3</td>\n",
       "      <td>4.70</td>\n",
       "      <td>5.0</td>\n",
       "      <td>4.3</td>\n",
       "      <td>396.7</td>\n",
       "    </tr>\n",
       "    <tr>\n",
       "      <th>2</th>\n",
       "      <td>Total_Orders</td>\n",
       "      <td>92.0</td>\n",
       "      <td>519.260870</td>\n",
       "      <td>291.307808</td>\n",
       "      <td>61.0</td>\n",
       "      <td>275.000</td>\n",
       "      <td>525.5</td>\n",
       "      <td>759.00</td>\n",
       "      <td>991.0</td>\n",
       "      <td>525.5</td>\n",
       "      <td>47772.0</td>\n",
       "    </tr>\n",
       "    <tr>\n",
       "      <th>3</th>\n",
       "      <td>Last_Week_Sales</td>\n",
       "      <td>92.0</td>\n",
       "      <td>55.032609</td>\n",
       "      <td>37.475692</td>\n",
       "      <td>5.0</td>\n",
       "      <td>23.750</td>\n",
       "      <td>47.5</td>\n",
       "      <td>79.00</td>\n",
       "      <td>166.0</td>\n",
       "      <td>47.5</td>\n",
       "      <td>5063.0</td>\n",
       "    </tr>\n",
       "    <tr>\n",
       "      <th>4</th>\n",
       "      <td>Last_Month_Sales</td>\n",
       "      <td>92.0</td>\n",
       "      <td>179.739130</td>\n",
       "      <td>114.646314</td>\n",
       "      <td>17.0</td>\n",
       "      <td>85.500</td>\n",
       "      <td>163.0</td>\n",
       "      <td>267.25</td>\n",
       "      <td>474.0</td>\n",
       "      <td>163.0</td>\n",
       "      <td>16536.0</td>\n",
       "    </tr>\n",
       "  </tbody>\n",
       "</table>\n",
       "</div>"
      ],
      "text/plain": [
       "             metric  count        mean         std    min      25%    50%  \\\n",
       "0             Price   92.0  223.913043    4.907165  220.0  220.000  220.0   \n",
       "1        Avg_Rating   92.0    4.311957    0.415851    3.5    3.975    4.3   \n",
       "2      Total_Orders   92.0  519.260870  291.307808   61.0  275.000  525.5   \n",
       "3   Last_Week_Sales   92.0   55.032609   37.475692    5.0   23.750   47.5   \n",
       "4  Last_Month_Sales   92.0  179.739130  114.646314   17.0   85.500  163.0   \n",
       "\n",
       "      75%    max  median      sum  \n",
       "0  230.00  230.0   220.0  20600.0  \n",
       "1    4.70    5.0     4.3    396.7  \n",
       "2  759.00  991.0   525.5  47772.0  \n",
       "3   79.00  166.0    47.5   5063.0  \n",
       "4  267.25  474.0   163.0  16536.0  "
      ]
     },
     "execution_count": 14,
     "metadata": {},
     "output_type": "execute_result"
    }
   ],
   "source": [
    "pd.DataFrame(json.loads(r[1].content[0].text))"
   ]
  },
  {
   "cell_type": "code",
   "execution_count": null,
   "id": "4a36b414",
   "metadata": {},
   "outputs": [],
   "source": []
  }
 ],
 "metadata": {
  "kernelspec": {
   "display_name": "agent",
   "language": "python",
   "name": "python3"
  },
  "language_info": {
   "codemirror_mode": {
    "name": "ipython",
    "version": 3
   },
   "file_extension": ".py",
   "mimetype": "text/x-python",
   "name": "python",
   "nbconvert_exporter": "python",
   "pygments_lexer": "ipython3",
   "version": "3.12.9"
  }
 },
 "nbformat": 4,
 "nbformat_minor": 5
}
